{
 "cells": [
  {
   "cell_type": "code",
   "execution_count": 2,
   "id": "9aac3b8e",
   "metadata": {},
   "outputs": [],
   "source": [
    "from google.cloud import documentai_v1 as documentai\n",
    "from vertexai.generative_models import GenerativeModel\n",
    "import vertexai\n",
    "\n",
    "from google.cloud import firestore\n",
    "\n",
    "import os\n",
    "from dotenv import load_dotenv\n",
    "import pathlib\n",
    "\n",
    "import pymupdf\n",
    "import pymupdf4llm\n",
    "import pandas as pd\n",
    "import numpy as np\n",
    "import random\n",
    "\n",
    "load_dotenv()\n",
    "PROJECT_ID = os.getenv(\"GOOGLE_PROJECT_ID\")\n",
    "LOCATION = os.getenv(\"GOOGLE_VERTEX_LOC\")\n",
    "PROCESSOR_ID = os.getenv(\"GOOGLE_DOC_PROCESSOR_ID\")\n",
    "os.environ[\"GOOGLE_APPLICATION_CREDENTIALS\"] = \"/home/shash/projects/google_genai/backend/firm-retina-472005-t8-38c1cb563266.json\"\n",
    "\n",
    "\n",
    "name = f\"projects/{PROJECT_ID}/locations/{LOCATION}/processors/{PROCESSOR_ID}\"\n",
    "\n",
    "\n",
    "vertexai.init(project=PROJECT_ID,location=LOCATION)\n"
   ]
  },
  {
   "cell_type": "code",
   "execution_count": 3,
   "id": "60e42bb3",
   "metadata": {},
   "outputs": [],
   "source": [
    "file_path  = \"/home/shash/projects/google_genai/data/resumes/computer-science-resume-example.pdf\""
   ]
  },
  {
   "cell_type": "code",
   "execution_count": 20,
   "id": "866d1415",
   "metadata": {},
   "outputs": [
    {
     "name": "stdout",
     "output_type": "stream",
     "text": [
      "# BELLA TREVINO\n",
      "\n",
      "### WEB DEVELOPER\n",
      "\n",
      "\n",
      "\n",
      "\n",
      "\n",
      "\n",
      "### **CAREER OBJECTIVE**\n",
      "\n",
      "Graduate of computer science with experience working across the\n",
      "full-stack of software development. Looking for a role where I can\n",
      "grow and learn from experienced team members while drawing on\n",
      "project experience I have already successfully executed.\n",
      "\n",
      "### **WORK EXPERIENCE** Web Developer Intern\n",
      "\n",
      "\n",
      "Book of the Month\n",
      "April 2019 - September 2019 / Chicago, IL\n",
      "\n",
      "## ·\n",
      "\n",
      "[Developed in-house web app using Node, React, and HTML/CSS]\n",
      "\n",
      "that allowed employees to manage and recommend books\n",
      "\n",
      "## ·\n",
      "\n",
      "[Gathered user requirements, and built and maintained code for]\n",
      "\n",
      "the tool, saving employees 14 monthly hours in labor\n",
      "\n",
      "## ·\n",
      "\n",
      "[Collaborated with 3 interns and senior developer to brainstorm]\n",
      "\n",
      "and implement ideas and feedback into app's development\n",
      "\n",
      "## ·\n",
      "\n",
      "[Selected as the top performing intern by the technology team]\n",
      "\n",
      "### **PROJECTS** Social Media Scheduler\n",
      "\n",
      "\n",
      "Creator\n",
      "\n",
      "## ·\n",
      "\n",
      "[Built responsive app using Django and Node that allowed users]\n",
      "\n",
      "to schedule social media posts across Instagram and Twitter\n",
      "\n",
      "## ·\n",
      "\n",
      "[Built features using scikit-learn in Python that learned the time]\n",
      "\n",
      "of day of maximum engagement with social media posts,\n",
      "which increased overall engagement rate by 23% for users\n",
      "\n",
      "## ·\n",
      "\n",
      "[Released it for free for University of Illinois Chicago students,]\n",
      "\n",
      "and it quickly grew to over 500 monthly active users\n",
      "\n",
      "## ·\n",
      "\n",
      "[Featured across 7 local newspapers, radio stations, and news]\n",
      "\n",
      "networks with focus around use of Twitter and Instagram APIs\n",
      "\n",
      "### Computer Science Club\n",
      "\n",
      "\n",
      "Co-founder\n",
      "\n",
      "April 2017 - April 2020\n",
      "\n",
      "## ·\n",
      "\n",
      "[Presented a need for a computer science club to student]\n",
      "\n",
      "government, obtained club approval, and secured club advisor\n",
      "\n",
      "## ·\n",
      "\n",
      "[Co-founded the computer science club at the University of]\n",
      "\n",
      "Illinois Chicago to encourage exchanges among CS students\n",
      "surrounding new concepts and technical problems\n",
      "\n",
      "## ·\n",
      "\n",
      "[Led club members to spend 2 hours a week pair programming]\n",
      "\n",
      "with another member to share learnings\n",
      "\n",
      "## ·\n",
      "\n",
      "[Partnered with journalism majors to attract 35 active]\n",
      "\n",
      "members to the club in first year, using web and tv campaigns\n",
      "\n",
      "\n",
      "\n"
     ]
    }
   ],
   "source": [
    "document = pymupdf.open(filename=file_path)\n",
    "text = pymupdf4llm.to_markdown(document)\n",
    "print(text)"
   ]
  },
  {
   "cell_type": "markdown",
   "id": "567a0d3c",
   "metadata": {},
   "source": [
    "Resume Parsing\n",
    "\n"
   ]
  },
  {
   "cell_type": "code",
   "execution_count": 21,
   "id": "d42386ae",
   "metadata": {},
   "outputs": [
    {
     "name": "stdout",
     "output_type": "stream",
     "text": [
      "```json\n",
      "{\n",
      "  \"name\": \"BELLA TREVINO\",\n",
      "  \"education\": [\n",
      "    {\n",
      "      \"degree\": \"Computer Science\",\n",
      "      \"branch\": \"Computer Science\",\n",
      "      \"college\": \"University of Illinois Chicago\"\n",
      "    }\n",
      "  ],\n",
      "  \"skills\": [\n",
      "    \"Node\",\n",
      "    \"React\",\n",
      "    \"HTML/CSS\",\n",
      "    \"Django\",\n",
      "    \"scikit-learn\",\n",
      "    \"Python\",\n",
      "    \"Instagram API\",\n",
      "    \"Twitter API\"\n",
      "  ],\n",
      "  \"projects/experience\": [\n",
      "    {\n",
      "      \"title\": \"Web Developer Intern at Book of the Month\",\n",
      "      \"desc\": \"Developed in-house web app using Node, React, and HTML/CSS that allowed employees to manage and recommend books. Gathered user requirements, and built and maintained code for the tool, saving employees 14 monthly hours in labor. Collaborated with 3 interns and senior developer to brainstorm and implement ideas and feedback into app's development. Selected as the top performing intern by the technology team.\"\n",
      "    },\n",
      "    {\n",
      "      \"title\": \"Social Media Scheduler\",\n",
      "      \"desc\": \"Built responsive app using Django and Node that allowed users to schedule social media posts across Instagram and Twitter. Built features using scikit-learn in Python that learned the time of day of maximum engagement with social media posts, which increased overall engagement rate by 23% for users. Released it for free for University of Illinois Chicago students, and it quickly grew to over 500 monthly active users. Featured across 7 local newspapers, radio stations, and news networks with focus around use of Twitter and Instagram APIs.\"\n",
      "    },\n",
      "    {\n",
      "      \"title\": \"Co-founder of Computer Science Club\",\n",
      "      \"desc\": \"Presented a need for a computer science club to student government, obtained club approval, and secured club advisor. Co-founded the computer science club at the University of Illinois Chicago to encourage exchanges among CS students surrounding new concepts and technical problems. Led club members to spend 2 hours a week pair programming with another member to share learnings. Partnered with journalism majors to attract 35 active members to the club in first year, using web and tv campaigns.\"\n",
      "    }\n",
      "  ]\n",
      "}\n",
      "```\n"
     ]
    }
   ],
   "source": [
    "\n",
    "model_prompt = f\"\"\"\n",
    "You are given an resume, you have to parse the below text and return in JSON format with correct entities in correct fields.\n",
    "1.name , 2.education , 3.skills ,4.projects\n",
    "RESUME TEXT: {text}\n",
    "ONLY RESPOND IN VALID JSON, DO NOT include any extra abbrivations,salutations,or extra text.\n",
    "Follow the below format:\n",
    "```json\n",
    "{{\n",
    "  \n",
    "  \"name\":\n",
    "  \"education\":[{{\"degree\":, \"branch\":, \"college\":}}],\n",
    "  \"skills\":[...],\n",
    "  \"projects/experience\":[{{\"title\":\"\",\"desc\":\"...\"}}]\n",
    "}}\n",
    "```\n",
    "\"\"\"\n",
    "\n",
    "model = GenerativeModel(model_name=\"gemini-2.5-flash\")\n",
    "\n",
    "res = model.generate_content(model_prompt)\n",
    "print(res.text)"
   ]
  },
  {
   "cell_type": "markdown",
   "id": "f6d5cfbc",
   "metadata": {},
   "source": [
    "16 FPR Algorithm and workflow"
   ]
  },
  {
   "cell_type": "code",
   "execution_count": 5,
   "id": "cee11ed4",
   "metadata": {},
   "outputs": [],
   "source": [
    "mbti_questions_path = \"/home/shash/projects/google_genai/data/MBTI_questions/MBTI.csv\""
   ]
  },
  {
   "cell_type": "code",
   "execution_count": 6,
   "id": "daec67c0",
   "metadata": {},
   "outputs": [
    {
     "data": {
      "text/html": [
       "<div>\n",
       "<style scoped>\n",
       "    .dataframe tbody tr th:only-of-type {\n",
       "        vertical-align: middle;\n",
       "    }\n",
       "\n",
       "    .dataframe tbody tr th {\n",
       "        vertical-align: top;\n",
       "    }\n",
       "\n",
       "    .dataframe thead th {\n",
       "        text-align: right;\n",
       "    }\n",
       "</style>\n",
       "<table border=\"1\" class=\"dataframe\">\n",
       "  <thead>\n",
       "    <tr style=\"text-align: right;\">\n",
       "      <th></th>\n",
       "      <th>Unnamed: 0</th>\n",
       "      <th>Type</th>\n",
       "      <th>Sentence</th>\n",
       "      <th>labels</th>\n",
       "    </tr>\n",
       "  </thead>\n",
       "  <tbody>\n",
       "    <tr>\n",
       "      <th>0</th>\n",
       "      <td>0</td>\n",
       "      <td>INFJ</td>\n",
       "      <td>I tend to empathize deeply with the emotions o...</td>\n",
       "      <td>8</td>\n",
       "    </tr>\n",
       "    <tr>\n",
       "      <th>1</th>\n",
       "      <td>1</td>\n",
       "      <td>INFJ</td>\n",
       "      <td>I often daydream and explore complex ideas in ...</td>\n",
       "      <td>8</td>\n",
       "    </tr>\n",
       "    <tr>\n",
       "      <th>2</th>\n",
       "      <td>2</td>\n",
       "      <td>INFJ</td>\n",
       "      <td>I'm highly sensitive to criticism and take it ...</td>\n",
       "      <td>8</td>\n",
       "    </tr>\n",
       "    <tr>\n",
       "      <th>3</th>\n",
       "      <td>3</td>\n",
       "      <td>INFJ</td>\n",
       "      <td>I believe in the power of intuition and gut fe...</td>\n",
       "      <td>8</td>\n",
       "    </tr>\n",
       "    <tr>\n",
       "      <th>4</th>\n",
       "      <td>4</td>\n",
       "      <td>INFJ</td>\n",
       "      <td>I can be reserved initially but open up in mea...</td>\n",
       "      <td>8</td>\n",
       "    </tr>\n",
       "  </tbody>\n",
       "</table>\n",
       "</div>"
      ],
      "text/plain": [
       "   Unnamed: 0  Type                                           Sentence  labels\n",
       "0           0  INFJ  I tend to empathize deeply with the emotions o...       8\n",
       "1           1  INFJ  I often daydream and explore complex ideas in ...       8\n",
       "2           2  INFJ  I'm highly sensitive to criticism and take it ...       8\n",
       "3           3  INFJ  I believe in the power of intuition and gut fe...       8\n",
       "4           4  INFJ  I can be reserved initially but open up in mea...       8"
      ]
     },
     "execution_count": 6,
     "metadata": {},
     "output_type": "execute_result"
    }
   ],
   "source": [
    "df = pd.read_csv(mbti_questions_path)\n",
    "df.drop(df.columns[1],axis=1)\n",
    "df.head()"
   ]
  },
  {
   "cell_type": "code",
   "execution_count": null,
   "id": "5d4b552d",
   "metadata": {},
   "outputs": [
    {
     "name": "stdout",
     "output_type": "stream",
     "text": [
      "{'INFJ': [\"I'm interested in psychology and understanding human behavior.\"], 'INTP': ['I enjoy experimenting and exploring new ways of doing things.'], 'INTJ': ['I enjoy exploring complex theories and understanding underlying principles.'], 'ENTP': ['I enjoy exploring different perspectives and viewpoints.'], 'ISTP': [\"I'm curious about how things are built or constructed.\"], 'INFP': [\"I'm compassionate and often put others' needs before my own.\"], 'ENTJ': [\"I'm strategic and always thinking about the next steps.\"], 'ESTP': [\"I'm confident in my abilities and trust my instincts.\"], 'ENFJ': [\"I'm good at understanding people's motivations and needs.\"], 'ENFP': [\"I'm optimistic and see the good in people and situations.\"], 'ESTJ': [\"I'm responsible and take my duties seriously.\"], 'ESFJ': [\"I'm organized and enjoy planning social events and gatherings.\"], 'ESFP': [\"I'm friendly and approachable, making it easy for others to connect with me.\"], 'ISTJ': [\"I'm reserved in expressing emotions but deeply care about those close to me.\"], 'ISFJ': [\"I'm patient and understanding, especially in challenging situations.\"], 'ISFP': [\"I'm loyal to my close friends and cherish meaningful connections.\"]}\n"
     ]
    }
   ],
   "source": []
  },
  {
   "cell_type": "code",
   "execution_count": null,
   "id": "1cb97d3a",
   "metadata": {},
   "outputs": [
    {
     "name": "stdout",
     "output_type": "stream",
     "text": [
      "Batch insert done460\n"
     ]
    }
   ],
   "source": [
    "\n",
    "\n",
    "db = firestore.Client(database=\"hackathonfirestore\")\n",
    "batch = db.batch()\n",
    "collection_ref = db.collection(\"questions\")\n",
    "\n",
    "for index,row in df.iterrows():\n",
    "    ques = row[\"Sentence\"]\n",
    "    cat = row[\"Type\"]\n",
    "    dat = {\"question\": ques,\"type\":cat}\n",
    "    # if index>10:\n",
    "    #     break\n",
    "    try:\n",
    "        # db.collection(\"questions\").add(dat)\n",
    "        doc_ref = collection_ref.document()\n",
    "        batch.set(doc_ref,{\n",
    "            \"question\":row[\"Sentence\"],\n",
    "            \"type\":row[\"Type\"]\n",
    "        })\n",
    "        print(f\"inserted records {index}\",end='\\r')\n",
    "\n",
    "    except Exception as e:\n",
    "        print(f\"error in storing data in firestore {str(e)}\")\n",
    "        print(f\"type: {type(e)}\")\n",
    "        continue\n",
    "\n",
    "batch.commit()\n",
    "print(\"Batch insert done\")\n"
   ]
  },
  {
   "cell_type": "code",
   "execution_count": 12,
   "id": "42b2cc92",
   "metadata": {},
   "outputs": [
    {
     "name": "stdout",
     "output_type": "stream",
     "text": [
      "Active project: firm-retina-472005-t8\n"
     ]
    }
   ],
   "source": [
    "import google.auth\n",
    "creds, project = google.auth.default()\n",
    "print(\"Active project:\", project)\n"
   ]
  },
  {
   "cell_type": "code",
   "execution_count": 16,
   "id": "c387796c",
   "metadata": {},
   "outputs": [
    {
     "name": "stdout",
     "output_type": "stream",
     "text": [
      "{'INTJ': ['I enjoy strategic planning and thinking about the future.'], 'ENTP': ['I enjoy debating and challenging ideas in a lively discussion.'], 'ENFJ': ['I enjoy creating a nurturing and supportive environment for others.'], 'ESTJ': [\"I'm focused on efficiency and streamlining processes for better results.\"], 'INFP': [\"I'm sensitive to criticism and take it to heart.\"], 'ESFJ': [\"I'm loyal to my values and seek to maintain harmony in relationships.\"], 'ESTP': [\"I'm resourceful and can find creative solutions to challenges.\"], 'ISTJ': [\"I'm loyal to my values and principles, and I stand by them firmly.\"], 'ENTJ': [\"I'm decisive and can make tough decisions even under pressure.\"], 'ISTP': [\"I'm interested in how things are constructed and function.\"], 'ISFP': ['I enjoy exploring new experiences and living in the moment.'], 'INFJ': ['I have a vivid imagination and enjoy exploring creative projects.'], 'INTP': ['I can get lost in researching a topic of interest for hours.'], 'ISFJ': [\"I'm nurturing and enjoy taking care of others' well-being.\"], 'ESFP': [\"I'm enthusiastic about new experiences and opportunities.\"], 'ENFP': [\"I'm driven by creativity and enjoy exploring innovative ideas.\"]}\n"
     ]
    }
   ],
   "source": [
    "docs= db.collection(\"questions\").stream()\n",
    "data = []\n",
    "for doc in docs:\n",
    "    data.append(doc.to_dict())\n",
    "\n",
    "ques_df = pd.DataFrame(data)\n",
    "\n",
    "ques_list = {}\n",
    "for category in ques_df['type'].unique():\n",
    "    questions = ques_df.loc[ques_df['type']==category,'question'].tolist()\n",
    "    ques = random.choice(questions)\n",
    "    ques_list[category] = [ques]\n",
    "\n",
    "print(ques_list)\n"
   ]
  },
  {
   "cell_type": "code",
   "execution_count": null,
   "id": "edd2b0fc",
   "metadata": {},
   "outputs": [
    {
     "name": "stdout",
     "output_type": "stream",
     "text": [
      "{'INFJ': 8, 'ENFP': 8, 'INFP': 6, 'ENTP': 6, 'ISFJ': 8, 'ISTJ': 6, 'INTJ': 8, 'ESFP': 5, 'ESTP': 5, 'ENTJ': 9}\n",
      "['ENTJ']\n"
     ]
    }
   ],
   "source": [
    "#weighing algo\n",
    "\n",
    "#input data : {TYPE,SCORE}\n",
    "\n",
    "# strongly agree: 5 , strongly disagree: 1\n",
    "\n",
    "dummy_answers = [\n",
    "    {\"INFJ\": 5},  # Q1\n",
    "    {\"ENFP\": 3},  # Q2\n",
    "    {\"INFP\": 4},  # Q3\n",
    "    {\"ENTP\": 2},  # Q4\n",
    "    {\"ISFJ\": 5},  # Q5\n",
    "    {\"ISTJ\": 4},  # Q6\n",
    "    {\"INTJ\": 3},  # Q7\n",
    "    {\"ESFP\": 2},  # Q8\n",
    "    {\"ESTP\": 1},  # Q9\n",
    "    {\"ENTJ\": 4},  # Q10\n",
    "    {\"INFJ\": 3},  # Q11\n",
    "    {\"ENFP\": 5},  # Q12\n",
    "    {\"INFP\": 2},  # Q13\n",
    "    {\"ENTP\": 4},  # Q14\n",
    "    {\"ISFJ\": 3},  # Q15\n",
    "    {\"ISTJ\": 2},  # Q16\n",
    "    {\"INTJ\": 5},  # Q17\n",
    "    {\"ESFP\": 3},  # Q18\n",
    "    {\"ESTP\": 4},  # Q19\n",
    "    {\"ENTJ\": 5}   # Q20\n",
    "]\n",
    "\n",
    "personality = {}\n",
    "for entry in dummy_answers:\n",
    "    for key,value in entry.items():\n",
    "        if key not in personality.keys():\n",
    "            personality[key] = value\n",
    "        else:\n",
    "            personality[key] += value\n",
    "\n",
    "user_pers = []\n",
    "max_val = 0\n",
    "for key,value in personality.items():\n",
    "    if value>= max_val:\n",
    "        max_val = value\n",
    "for key,value in personality.items():\n",
    "    if value==max_val:\n",
    "        user_pers.append(key)\n",
    "\n",
    "print(personality)\n",
    "print(user_pers)"
   ]
  },
  {
   "cell_type": "code",
   "execution_count": null,
   "id": "610dc983",
   "metadata": {},
   "outputs": [],
   "source": []
  }
 ],
 "metadata": {
  "kernelspec": {
   "display_name": "google_genai",
   "language": "python",
   "name": "python3"
  },
  "language_info": {
   "codemirror_mode": {
    "name": "ipython",
    "version": 3
   },
   "file_extension": ".py",
   "mimetype": "text/x-python",
   "name": "python",
   "nbconvert_exporter": "python",
   "pygments_lexer": "ipython3",
   "version": "3.12.11"
  }
 },
 "nbformat": 4,
 "nbformat_minor": 5
}
